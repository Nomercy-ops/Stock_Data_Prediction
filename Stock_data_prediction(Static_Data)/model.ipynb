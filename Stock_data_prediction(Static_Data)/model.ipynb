{
 "cells": [
  {
   "cell_type": "markdown",
   "source": [
    "\"\"\"\n",
    "@Author: Rikesh Chhetri\n",
    "\n",
    "@Date: 2021-09-08\n",
    "\n",
    "@Last Modified by: Rikesh Chhetri\n",
    "\n",
    "@Last Modified time: 2021-09-08 10:03:30\n",
    "\n",
    "@Title : Program Aim Cleaning and Processing pf data recieved from kafka and creating dataframe and also creating machine learning model\n",
    " \n",
    "\"\"\""
   ],
   "metadata": {}
  },
  {
   "cell_type": "code",
   "execution_count": 1,
   "source": [
    "from pyspark.sql import SparkSession\n",
    "spark= SparkSession.builder.appName('Stock Data processing').getOrCreate()"
   ],
   "outputs": [
    {
     "output_type": "stream",
     "name": "stderr",
     "text": [
      "2021-09-14 15:07:20,561 WARN util.NativeCodeLoader: Unable to load native-hadoop library for your platform... using builtin-java classes where applicable\n",
      "Setting default log level to \"WARN\".\n",
      "To adjust logging level use sc.setLogLevel(newLevel). For SparkR, use setLogLevel(newLevel).\n"
     ]
    }
   ],
   "metadata": {}
  },
  {
   "cell_type": "code",
   "execution_count": 2,
   "source": [
    "from pyspark.ml.regression import LinearRegression\n",
    "from pyspark.sql.functions import percent_rank\n",
    "from pyspark.sql import Window\n",
    "from pyspark.ml.feature import VectorAssembler\n",
    "from pyspark.sql.functions import *"
   ],
   "outputs": [],
   "metadata": {}
  },
  {
   "cell_type": "code",
   "execution_count": 3,
   "source": [
    "df = spark.read.csv(\"hdfs://localhost:9000/stocksdatakafka/stock_data.csv\",header=True)"
   ],
   "outputs": [
    {
     "output_type": "stream",
     "name": "stderr",
     "text": []
    }
   ],
   "metadata": {}
  },
  {
   "cell_type": "markdown",
   "source": [
    "# Processing  The Data"
   ],
   "metadata": {}
  },
  {
   "cell_type": "code",
   "execution_count": 4,
   "source": [
    "dataset2=df.withColumnRenamed('[\"time\"','time')\\\n",
    "    .withColumnRenamed(' \"open\"','open')\\\n",
    "    .withColumnRenamed(' \"high\"','high')\\\n",
    "    .withColumnRenamed(' \"low\"','low')\\\n",
    "    .withColumnRenamed(' \"close\"','close')\\\n",
    "    .withColumnRenamed(' \"volume\"]','volume')"
   ],
   "outputs": [],
   "metadata": {}
  },
  {
   "cell_type": "code",
   "execution_count": 6,
   "source": [
    "dataset2.printSchema()"
   ],
   "outputs": [
    {
     "output_type": "stream",
     "name": "stdout",
     "text": [
      "root\n",
      " |-- time: string (nullable = true)\n",
      " |-- open: string (nullable = true)\n",
      " |-- high: string (nullable = true)\n",
      " |-- low: string (nullable = true)\n",
      " |-- close: string (nullable = true)\n",
      " |-- volume: string (nullable = true)\n",
      "\n"
     ]
    }
   ],
   "metadata": {}
  },
  {
   "cell_type": "code",
   "execution_count": 7,
   "source": [
    "dataset2.show()"
   ],
   "outputs": [
    {
     "output_type": "stream",
     "name": "stdout",
     "text": [
      "+--------------------+-----------+-----------+-----------+-----------+----------+\n",
      "|                time|       open|       high|        low|      close|    volume|\n",
      "+--------------------+-----------+-----------+-----------+-----------+----------+\n",
      "|[\"2021-09-03 19:0...|   \"139.55\"|   \"139.55\"|   \"139.55\"|   \"139.55\"|   \"2749\"]|\n",
      "|[\"2021-09-03 17:4...|   \"139.65\"|   \"139.65\"|   \"139.65\"|   \"139.65\"|    \"150\"]|\n",
      "|[\"2021-09-03 16:1...|   \"139.58\"|   \"139.61\"|   \"139.55\"|   \"139.55\"|  \"31003\"]|\n",
      "|[\"2021-09-03 16:0...|  \"139.765\"|  \"139.885\"|   \"139.54\"|   \"139.62\"| \"269779\"]|\n",
      "|[\"2021-09-03 15:4...|   \"139.69\"|  \"139.769\"|  \"139.635\"|  \"139.769\"|  \"79292\"]|\n",
      "|[\"2021-09-03 15:3...| \"139.8399\"|   \"139.86\"|  \"139.655\"|   \"139.69\"|  \"49114\"]|\n",
      "|[\"2021-09-03 15:1...|   \"139.76\"|   \"139.88\"|   \"139.75\"|   \"139.83\"|  \"50153\"]|\n",
      "|[\"2021-09-03 15:0...|   \"139.78\"|   \"139.84\"|   \"139.72\"|   \"139.74\"|  \"38715\"]|\n",
      "|[\"2021-09-03 14:4...|   \"139.61\"|   \"139.78\"|   \"139.59\"|   \"139.78\"|  \"31959\"]|\n",
      "|[\"2021-09-03 14:3...| \"139.6829\"| \"139.6861\"|   \"139.57\"| \"139.6311\"|  \"31552\"]|\n",
      "|[\"2021-09-03 14:1...|   \"139.63\"|   \"139.72\"|   \"139.57\"|   \"139.69\"|  \"34371\"]|\n",
      "|[\"2021-09-03 14:0...|   \"139.76\"|   \"139.76\"|   \"139.63\"|   \"139.64\"|  \"36656\"]|\n",
      "|[\"2021-09-03 13:4...|   \"139.69\"|   \"139.78\"|   \"139.65\"|   \"139.76\"|  \"28612\"]|\n",
      "|[\"2021-09-03 13:3...|   \"139.65\"|   \"139.73\"|  \"139.629\"|   \"139.67\"|  \"30235\"]|\n",
      "|[\"2021-09-03 13:1...|   \"139.49\"|   \"139.65\"|   \"139.48\"|   \"139.64\"|  \"35199\"]|\n",
      "|[\"2021-09-03 13:0...|   \"139.46\"|  \"139.515\"| \"139.4104\"|   \"139.47\"|  \"32583\"]|\n",
      "|[\"2021-09-03 12:4...|   \"139.45\"|   \"139.47\"|   \"139.35\"|   \"139.46\"|  \"34212\"]|\n",
      "|[\"2021-09-03 12:3...|   \"139.47\"|    \"139.5\"|   \"139.33\"|   \"139.43\"|  \"34336\"]|\n",
      "|[\"2021-09-03 12:1...| \"139.4451\"|   \"139.54\"|   \"139.39\"|   \"139.52\"|  \"35873\"]|\n",
      "|[\"2021-09-03 12:0...| \"139.5201\"|   \"139.56\"|   \"139.43\"|   \"139.48\"|  \"32806\"]|\n",
      "+--------------------+-----------+-----------+-----------+-----------+----------+\n",
      "only showing top 20 rows\n",
      "\n"
     ]
    }
   ],
   "metadata": {}
  },
  {
   "cell_type": "markdown",
   "source": [
    "# Cleaning Data"
   ],
   "metadata": {}
  },
  {
   "cell_type": "code",
   "execution_count": 5,
   "source": [
    "newDf = dataset2.withColumn('open', regexp_replace('open', '\"', ''))\\\n",
    "    .withColumn('Time', regexp_replace('time', '\\\\[\"', ''))\\\n",
    "    .withColumn('Time', regexp_replace('time', '\"', ''))\\\n",
    "    .withColumn('High', regexp_replace('high', '\"', ''))\\\n",
    "    .withColumn('Low', regexp_replace('low', '\"', ''))\\\n",
    "    .withColumn('Close', regexp_replace('close', '\"', ''))\\\n",
    "    .withColumn('Volume', regexp_replace('volume', '\"', ''))\\\n",
    "    .withColumn('Volume', regexp_replace('volume', '\\\\]', ''))\\\n",
    "   "
   ],
   "outputs": [],
   "metadata": {}
  },
  {
   "cell_type": "markdown",
   "source": [
    "# casting string to double values"
   ],
   "metadata": {}
  },
  {
   "cell_type": "code",
   "execution_count": 6,
   "source": [
    "df2 = newDf\\\n",
    "    .withColumn(\"open\",col(\"Open\").cast(\"double\"))\\\n",
    "    .withColumn(\"high\",col(\"High\").cast(\"double\"))\\\n",
    "    .withColumn(\"low\",col(\"Low\").cast(\"double\"))\\\n",
    "    .withColumn(\"close\",col(\"Close\").cast(\"double\"))\\\n",
    "    .withColumn(\"volume\",col(\"Volume\").cast(\"double\"))"
   ],
   "outputs": [],
   "metadata": {}
  },
  {
   "cell_type": "code",
   "execution_count": 10,
   "source": [
    "df2.show()"
   ],
   "outputs": [
    {
     "output_type": "stream",
     "name": "stdout",
     "text": [
      "+-------------------+--------+--------+--------+--------+--------+\n",
      "|               Time|    open|    high|     low|   close|  volume|\n",
      "+-------------------+--------+--------+--------+--------+--------+\n",
      "|2021-09-03 19:00:00|  139.55|  139.55|  139.55|  139.55|  2749.0|\n",
      "|2021-09-03 17:45:00|  139.65|  139.65|  139.65|  139.65|   150.0|\n",
      "|2021-09-03 16:15:00|  139.58|  139.61|  139.55|  139.55| 31003.0|\n",
      "|2021-09-03 16:00:00| 139.765| 139.885|  139.54|  139.62|269779.0|\n",
      "|2021-09-03 15:45:00|  139.69| 139.769| 139.635| 139.769| 79292.0|\n",
      "|2021-09-03 15:30:00|139.8399|  139.86| 139.655|  139.69| 49114.0|\n",
      "|2021-09-03 15:15:00|  139.76|  139.88|  139.75|  139.83| 50153.0|\n",
      "|2021-09-03 15:00:00|  139.78|  139.84|  139.72|  139.74| 38715.0|\n",
      "|2021-09-03 14:45:00|  139.61|  139.78|  139.59|  139.78| 31959.0|\n",
      "|2021-09-03 14:30:00|139.6829|139.6861|  139.57|139.6311| 31552.0|\n",
      "|2021-09-03 14:15:00|  139.63|  139.72|  139.57|  139.69| 34371.0|\n",
      "|2021-09-03 14:00:00|  139.76|  139.76|  139.63|  139.64| 36656.0|\n",
      "|2021-09-03 13:45:00|  139.69|  139.78|  139.65|  139.76| 28612.0|\n",
      "|2021-09-03 13:30:00|  139.65|  139.73| 139.629|  139.67| 30235.0|\n",
      "|2021-09-03 13:15:00|  139.49|  139.65|  139.48|  139.64| 35199.0|\n",
      "|2021-09-03 13:00:00|  139.46| 139.515|139.4104|  139.47| 32583.0|\n",
      "|2021-09-03 12:45:00|  139.45|  139.47|  139.35|  139.46| 34212.0|\n",
      "|2021-09-03 12:30:00|  139.47|   139.5|  139.33|  139.43| 34336.0|\n",
      "|2021-09-03 12:15:00|139.4451|  139.54|  139.39|  139.52| 35873.0|\n",
      "|2021-09-03 12:00:00|139.5201|  139.56|  139.43|  139.48| 32806.0|\n",
      "+-------------------+--------+--------+--------+--------+--------+\n",
      "only showing top 20 rows\n",
      "\n"
     ]
    }
   ],
   "metadata": {}
  },
  {
   "cell_type": "code",
   "execution_count": null,
   "source": [
    "import matplotlib.pyplot as plt\n",
    "check_na = df2.toPandas()\n",
    "check_na1 = check_na.set_index(\"Time\")\n",
    "check_na1.isna().sum()\n",
    "check_na1[\"open\"].plot(figsize=(16,6))"
   ],
   "outputs": [],
   "metadata": {}
  },
  {
   "cell_type": "markdown",
   "source": [
    "# creating vectors from features\n",
    "# Apache MLlib takes input in vector form"
   ],
   "metadata": {}
  },
  {
   "cell_type": "code",
   "execution_count": 7,
   "source": [
    "featureassembler=VectorAssembler(inputCols=[\"open\",\"high\",\"low\"],outputCol=\"features\")\n",
    "output=featureassembler.transform(df2)\n",
    "output.select(\"features\").show(5,truncate=False)"
   ],
   "outputs": [
    {
     "output_type": "stream",
     "name": "stdout",
     "text": [
      "+------------------------+\n",
      "|features                |\n",
      "+------------------------+\n",
      "|[139.55,139.55,139.55]  |\n",
      "|[139.65,139.65,139.65]  |\n",
      "|[139.58,139.61,139.55]  |\n",
      "|[139.765,139.885,139.54]|\n",
      "|[139.69,139.769,139.635]|\n",
      "+------------------------+\n",
      "only showing top 5 rows\n",
      "\n"
     ]
    },
    {
     "output_type": "stream",
     "name": "stderr",
     "text": []
    }
   ],
   "metadata": {}
  },
  {
   "cell_type": "markdown",
   "source": [
    "# finalized_data consist of features and label which is close."
   ],
   "metadata": {}
  },
  {
   "cell_type": "code",
   "execution_count": 8,
   "source": [
    "finalized_data=output.select(\"time\",\"features\",\"close\").sort(\"time\",ascending=True)"
   ],
   "outputs": [],
   "metadata": {}
  },
  {
   "cell_type": "code",
   "execution_count": 13,
   "source": [
    "finalized_data.show(5)"
   ],
   "outputs": [
    {
     "output_type": "stream",
     "name": "stdout",
     "text": [
      "+-------------------+--------------------+------+\n",
      "|               time|            features| close|\n",
      "+-------------------+--------------------+------+\n",
      "|2021-08-09 04:15:00|[142.96,143.8,142.5]| 142.5|\n",
      "|2021-08-09 07:15:00|[142.4,142.63,142.4]|142.55|\n",
      "|2021-08-09 07:45:00| [142.7,142.8,142.7]| 142.8|\n",
      "|2021-08-09 08:00:00| [142.7,142.7,142.7]| 142.7|\n",
      "|2021-08-09 08:15:00|[142.446,143.2499...|142.33|\n",
      "+-------------------+--------------------+------+\n",
      "only showing top 5 rows\n",
      "\n"
     ]
    },
    {
     "output_type": "stream",
     "name": "stderr",
     "text": []
    }
   ],
   "metadata": {}
  },
  {
   "cell_type": "markdown",
   "source": [
    "# splitting data into train and test"
   ],
   "metadata": {}
  },
  {
   "cell_type": "code",
   "execution_count": 9,
   "source": [
    "final_data = finalized_data.withColumn(\"rank\",percent_rank().over(Window.partitionBy().orderBy(\"time\")))"
   ],
   "outputs": [],
   "metadata": {}
  },
  {
   "cell_type": "code",
   "execution_count": 10,
   "source": [
    "train_data = final_data.where(\"rank <= .8\").drop(\"rank\")\n",
    "test_data = final_data.where(\"rank > .8\").drop(\"rank\")"
   ],
   "outputs": [],
   "metadata": {}
  },
  {
   "cell_type": "code",
   "execution_count": 16,
   "source": [
    "train_data.count()"
   ],
   "outputs": [
    {
     "output_type": "stream",
     "name": "stderr",
     "text": [
      "2021-09-14 09:24:59,290 WARN window.WindowExec: No Partition Defined for Window operation! Moving all data to a single partition, this can cause serious performance degradation.\n"
     ]
    },
    {
     "output_type": "execute_result",
     "data": {
      "text/plain": [
       "572"
      ]
     },
     "metadata": {},
     "execution_count": 16
    }
   ],
   "metadata": {}
  },
  {
   "cell_type": "code",
   "execution_count": null,
   "source": [
    "type(test_data)\n",
    "# write df out as table\n",
    "# test_data.write.parquet(\"test_data\")"
   ],
   "outputs": [],
   "metadata": {}
  },
  {
   "cell_type": "markdown",
   "source": [
    "# Creating A Model\n"
   ],
   "metadata": {}
  },
  {
   "cell_type": "code",
   "execution_count": 11,
   "source": [
    "\n",
    "linear_reg=LinearRegression(featuresCol='features',labelCol='close')\n",
    "lr_model=linear_reg.fit(train_data)\n",
    "print(\"Coefficients: \" + str(lr_model.coefficients))\n",
    "print(\"Intercept: \" + str(lr_model.intercept))\n"
   ],
   "outputs": [
    {
     "output_type": "stream",
     "name": "stderr",
     "text": [
      "2021-09-14 15:09:09,486 WARN window.WindowExec: No Partition Defined for Window operation! Moving all data to a single partition, this can cause serious performance degradation.\n",
      "2021-09-14 15:09:11,628 WARN window.WindowExec: No Partition Defined for Window operation! Moving all data to a single partition, this can cause serious performance degradation.\n",
      "2021-09-14 15:09:12,322 WARN util.Instrumentation: [067f226b] regParam is zero, which might cause numerical instability and overfitting.\n",
      "2021-09-14 15:09:18,396 WARN netlib.BLAS: Failed to load implementation from: com.github.fommil.netlib.NativeSystemBLAS\n",
      "2021-09-14 15:09:18,396 WARN netlib.BLAS: Failed to load implementation from: com.github.fommil.netlib.NativeRefBLAS\n",
      "2021-09-14 15:09:18,806 WARN netlib.LAPACK: Failed to load implementation from: com.github.fommil.netlib.NativeSystemLAPACK\n",
      "2021-09-14 15:09:18,806 WARN netlib.LAPACK: Failed to load implementation from: com.github.fommil.netlib.NativeRefLAPACK\n",
      "2021-09-14 15:09:19,590 WARN window.WindowExec: No Partition Defined for Window operation! Moving all data to a single partition, this can cause serious performance degradation.\n"
     ]
    },
    {
     "output_type": "stream",
     "name": "stdout",
     "text": [
      "Coefficients: [-0.44794213421396184,0.68232785821147,0.763631185921753]\n",
      "Intercept: 0.28480959021561214\n"
     ]
    },
    {
     "output_type": "stream",
     "name": "stderr",
     "text": []
    }
   ],
   "metadata": {}
  },
  {
   "cell_type": "markdown",
   "source": [
    "# Using our Linear Regression model to make some predictions: "
   ],
   "metadata": {}
  },
  {
   "cell_type": "code",
   "execution_count": 12,
   "source": [
    "predDF = lr_model.transform(test_data)\n",
    "predDF.select(\"features\", \"close\",\"prediction\").show(5)"
   ],
   "outputs": [
    {
     "output_type": "stream",
     "name": "stderr",
     "text": [
      "2021-09-14 15:09:23,335 WARN window.WindowExec: No Partition Defined for Window operation! Moving all data to a single partition, this can cause serious performance degradation.\n"
     ]
    },
    {
     "output_type": "stream",
     "name": "stdout",
     "text": [
      "+--------------------+------+------------------+\n",
      "|            features| close|        prediction|\n",
      "+--------------------+------+------------------+\n",
      "|[139.045,139.085,...|138.98| 139.0088189816052|\n",
      "|[138.97,138.98,13...|138.97|138.98604284027746|\n",
      "|[139.21,139.21,13...|139.21|  139.218743620076|\n",
      "|[138.81,138.81,13...|138.81|138.81953685610827|\n",
      "|[138.81,139.05,13...|139.05|138.98329554207902|\n",
      "+--------------------+------+------------------+\n",
      "only showing top 5 rows\n",
      "\n"
     ]
    },
    {
     "output_type": "stream",
     "name": "stderr",
     "text": []
    }
   ],
   "metadata": {}
  },
  {
   "cell_type": "markdown",
   "source": [
    "# Evaluating Models"
   ],
   "metadata": {}
  },
  {
   "cell_type": "markdown",
   "source": [
    "## RMSE\n",
    "### RMSE is a metric that ranges from zero to infinity. The closer it is to zero, the better."
   ],
   "metadata": {}
  },
  {
   "cell_type": "code",
   "execution_count": 19,
   "source": [
    "from pyspark.ml.evaluation import RegressionEvaluator\n",
    "regressionEvaluator = RegressionEvaluator(\n",
    "predictionCol=\"prediction\",\n",
    "labelCol=\"close\",\n",
    "metricName=\"rmse\")\n",
    "rmse = regressionEvaluator.evaluate(predDF)\n",
    "print(f\"RMSE is {rmse:.1f}\")"
   ],
   "outputs": [
    {
     "output_type": "stream",
     "name": "stderr",
     "text": [
      "2021-09-14 09:26:37,125 WARN window.WindowExec: No Partition Defined for Window operation! Moving all data to a single partition, this can cause serious performance degradation.\n"
     ]
    },
    {
     "output_type": "stream",
     "name": "stdout",
     "text": [
      "RMSE is 0.1\n"
     ]
    },
    {
     "output_type": "stream",
     "name": "stderr",
     "text": []
    }
   ],
   "metadata": {}
  },
  {
   "cell_type": "markdown",
   "source": [
    "# Saving Models"
   ],
   "metadata": {}
  },
  {
   "cell_type": "code",
   "execution_count": null,
   "source": [
    "# lr_model.save(\"stock_data_model\")\n"
   ],
   "outputs": [],
   "metadata": {}
  }
 ],
 "metadata": {
  "orig_nbformat": 4,
  "language_info": {
   "name": "python",
   "version": "3.8.10",
   "mimetype": "text/x-python",
   "codemirror_mode": {
    "name": "ipython",
    "version": 3
   },
   "pygments_lexer": "ipython3",
   "nbconvert_exporter": "python",
   "file_extension": ".py"
  },
  "kernelspec": {
   "name": "python3",
   "display_name": "Python 3.8.10 64-bit"
  },
  "interpreter": {
   "hash": "31f2aee4e71d21fbe5cf8b01ff0e069b9275f58929596ceb00d14d90e3e16cd6"
  }
 },
 "nbformat": 4,
 "nbformat_minor": 2
}